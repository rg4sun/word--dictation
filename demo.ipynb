{
 "cells": [
  {
   "cell_type": "code",
   "execution_count": 1,
   "metadata": {},
   "outputs": [],
   "source": [
    "import requests"
   ]
  },
  {
   "cell_type": "code",
   "execution_count": 2,
   "metadata": {},
   "outputs": [],
   "source": [
    "headers = {\n",
    "        'User-Agent': 'Mozilla/5.0 (Macintosh; Intel Mac OS X 10_15_1) AppleWebKit/537.36 (KHTML, like Gecko) Chrome/78.0.3904.108 Safari/537.36'\n",
    "    }"
   ]
  },
  {
   "cell_type": "code",
   "execution_count": 3,
   "metadata": {},
   "outputs": [
    {
     "data": {
      "text/plain": [
       "'http://dict.youdao.com/dictvoice?type=0&audio=ardent'"
      ]
     },
     "execution_count": 3,
     "metadata": {},
     "output_type": "execute_result"
    }
   ],
   "source": [
    "# 有道单词发音api 参考 https://blog.csdn.net/humanking7/article/details/88630856\n",
    "\n",
    "\n",
    "# base_url = 'https://dict.youdao.com/w/'\n",
    "base_url = 'http://dict.youdao.com/dictvoice?type=0&audio='\n",
    "# voice_type = {'us': 0, 'en': 1 }\n",
    "word = 'ardent'\n",
    "url = base_url + word\n",
    "url"
   ]
  },
  {
   "cell_type": "code",
   "execution_count": 4,
   "metadata": {},
   "outputs": [
    {
     "data": {
      "text/plain": [
       "<Response [200]>"
      ]
     },
     "execution_count": 4,
     "metadata": {},
     "output_type": "execute_result"
    }
   ],
   "source": [
    "response = requests.get(url, headers=headers)\n",
    "response"
   ]
  },
  {
   "cell_type": "code",
   "execution_count": 5,
   "metadata": {},
   "outputs": [],
   "source": [
    "audio_bitstream = response.content"
   ]
  },
  {
   "cell_type": "code",
   "execution_count": 6,
   "metadata": {},
   "outputs": [],
   "source": [
    "filename = word + '.mp3'\n",
    "with open(filename, 'wb') as fp:\n",
    "    fp.write(audio_bitstream)"
   ]
  },
  {
   "cell_type": "code",
   "execution_count": 9,
   "metadata": {},
   "outputs": [],
   "source": [
    "# Python播放MP3音频文件参考\n",
    "#  https://blog.csdn.net/yzy_1996/article/details/86992770\n",
    "from playsound import playsound"
   ]
  },
  {
   "cell_type": "code",
   "execution_count": 13,
   "metadata": {},
   "outputs": [],
   "source": [
    "import os\n",
    "ROOT_PATH = os.getcwd()\n",
    "AUDIO_PATH = os.path.join(ROOT_PATH, 'audio_data')\n",
    "if not os.path.exists(AUDIO_PATH):\n",
    "    os.mkdir(AUDIO_PATH)"
   ]
  },
  {
   "cell_type": "code",
   "execution_count": 15,
   "metadata": {},
   "outputs": [
    {
     "data": {
      "text/plain": [
       "['/Users/rgmax/Desktop/words-consolidation/word_lists/list1.txt']"
      ]
     },
     "execution_count": 15,
     "metadata": {},
     "output_type": "execute_result"
    }
   ],
   "source": [
    "WORD_LISTS_DIR = os.path.join(ROOT_PATH, 'word_lists')\n",
    "def get_list(WORD_LISTS_DIR=WORD_LISTS_DIR):\n",
    "    lists = os.listdir(WORD_LISTS_DIR)\n",
    "    return [ os.path.join(WORD_LISTS_DIR, list_name) for list_name in lists]\n",
    "\n",
    "get_list()"
   ]
  },
  {
   "cell_type": "code",
   "execution_count": 16,
   "metadata": {},
   "outputs": [
    {
     "data": {
      "text/plain": [
       "'http://dict.youdao.com/dictvoice?type=0&audio='"
      ]
     },
     "execution_count": 16,
     "metadata": {},
     "output_type": "execute_result"
    }
   ],
   "source": [
    "accent_type = 0\n",
    "base_url = 'http://dict.youdao.com/dictvoice?type={}&audio='.format(accent_type)\n",
    "base_url\n"
   ]
  },
  {
   "cell_type": "code",
   "execution_count": 17,
   "metadata": {},
   "outputs": [
    {
     "data": {
      "text/plain": [
       "('http://dict.youdao.com/dictvoice?type=0&audio=ardent', <Response [200]>)"
      ]
     },
     "execution_count": 17,
     "metadata": {},
     "output_type": "execute_result"
    }
   ],
   "source": [
    "url = base_url + word\n",
    "response = requests.get(url, headers=headers)\n",
    "audio_bitstream = response.content\n",
    "url, response"
   ]
  },
  {
   "cell_type": "code",
   "execution_count": 23,
   "metadata": {},
   "outputs": [
    {
     "data": {
      "text/plain": [
       "['test', 'super', 'supreme', 'ardent', 'splendid', 'marverlous', 'outstanding']"
      ]
     },
     "execution_count": 23,
     "metadata": {},
     "output_type": "execute_result"
    }
   ],
   "source": [
    "ROOT_PATH = os.getcwd()\n",
    "AUDIO_PATH = os.path.join(ROOT_PATH, 'audio_data')\n",
    "WORD_LISTS_DIR = os.path.join(ROOT_PATH, 'word_lists')\n",
    "def get_list_path(WORD_LISTS_DIR=WORD_LISTS_DIR):\n",
    "    lists = os.listdir(WORD_LISTS_DIR)\n",
    "    return [ os.path.join(WORD_LISTS_DIR, list_name) for list_name in lists]\n",
    "\n",
    "def get_words(list_path:str)->list:\n",
    "    with open(list_path, 'r') as fp:\n",
    "        return fp.read().split('\\n')\n",
    "\n",
    "get_words(get_list_path()[0])"
   ]
  },
  {
   "cell_type": "code",
   "execution_count": null,
   "metadata": {},
   "outputs": [],
   "source": [
    "\n",
    "audio_save_path = os.path.join(AUDIO_PATH, word + '.mp3')\n",
    "audio_save_path"
   ]
  },
  {
   "cell_type": "code",
   "execution_count": 19,
   "metadata": {},
   "outputs": [],
   "source": [
    "with open(audio_save_path, 'wb') as fp:\n",
    "        fp.write(audio_bitstream)"
   ]
  },
  {
   "cell_type": "code",
   "execution_count": 39,
   "metadata": {},
   "outputs": [
    {
     "data": {
      "text/plain": [
       "<Response [200]>"
      ]
     },
     "execution_count": 39,
     "metadata": {},
     "output_type": "execute_result"
    }
   ],
   "source": [
    "base_url = 'https://dict.youdao.com/w/'\n",
    "url = base_url + 'walk'\n",
    "response = requests.get(url, headers=headers)\n",
    "response"
   ]
  },
  {
   "cell_type": "code",
   "execution_count": 40,
   "metadata": {},
   "outputs": [],
   "source": [
    "html = response.text"
   ]
  },
  {
   "cell_type": "code",
   "execution_count": 41,
   "metadata": {},
   "outputs": [],
   "source": [
    "from bs4 import BeautifulSoup"
   ]
  },
  {
   "cell_type": "code",
   "execution_count": 42,
   "metadata": {},
   "outputs": [],
   "source": [
    "soup = BeautifulSoup(html, 'html.parser')\n",
    "# soup"
   ]
  },
  {
   "cell_type": "code",
   "execution_count": 43,
   "metadata": {},
   "outputs": [],
   "source": [
    "res = soup.select('.trans-container')"
   ]
  },
  {
   "cell_type": "code",
   "execution_count": 44,
   "metadata": {},
   "outputs": [
    {
     "data": {
      "text/plain": [
       "15"
      ]
     },
     "execution_count": 44,
     "metadata": {},
     "output_type": "execute_result"
    }
   ],
   "source": [
    "len(res)"
   ]
  },
  {
   "cell_type": "code",
   "execution_count": 45,
   "metadata": {},
   "outputs": [
    {
     "data": {
      "text/plain": [
       "<div class=\"trans-container\">\n",
       "<ul>\n",
       "<li>v. 走，行走；徒步旅行，散步；陪伴……走，护送……走；带（宠物）散步，遛（狗等）；把（某物）移走，使（某物）移动；&lt;非正式&gt;消失，被偷；轻易做成（某事）；&lt;非正式&gt;放弃，突然退出；出现，显灵；（使）上一垒；被无罪释放，未获刑罚；骑（马）慢步走；（板球）（击球手不等裁判指示）离开球场；&lt;古&gt;生活；训练并看护（小猎犬）</li>\n",
       "<li>n. 步行，散步；（为游玩而组织的）徒步旅行；（为某一事业或团体而组织的）步行募捐；散步的小路，步行的路径；步态；步行的距离（或时间）；缓步而行；（棒球）自由上垒；&lt;英&gt;（护林人的）管辖林区；斗鸡场；&lt;英&gt;小猎犬驯养场；&lt;英&gt;（邮递员的）投递路线；&lt;罕&gt;一群沙锥</li>\n",
       "<li>【名】 （Walk）（美）沃克（人名）</li>\n",
       "</ul>\n",
       "<p class=\"additional\">[\n",
       "                    复数\n",
       "        walks\n",
       "                     第三人称单数\n",
       "        walks\n",
       "                     现在分词\n",
       "        walking\n",
       "                     过去式\n",
       "        walked\n",
       "                     过去分词\n",
       "        walked\n",
       "                   ]</p>\n",
       "</div>"
      ]
     },
     "execution_count": 45,
     "metadata": {},
     "output_type": "execute_result"
    }
   ],
   "source": [
    "res[0]"
   ]
  },
  {
   "cell_type": "code",
   "execution_count": 38,
   "metadata": {},
   "outputs": [],
   "source": [
    "import re"
   ]
  },
  {
   "cell_type": "code",
   "execution_count": 48,
   "metadata": {},
   "outputs": [
    {
     "data": {
      "text/plain": [
       "['v. 走，行走；徒步旅行，散步；陪伴……走，护送……走；带（宠物）散步，遛（狗等）；把（某物）移走，使（某物）移动；&lt;非正式&gt;消失，被偷；轻易做成（某事）；&lt;非正式&gt;放弃，突然退出；出现，显灵；（使）上一垒；被无罪释放，未获刑罚；骑（马）慢步走；（板球）（击球手不等裁判指示）离开球场；&lt;古&gt;生活；训练并看护（小猎犬）',\n",
       " 'n. 步行，散步；（为游玩而组织的）徒步旅行；（为某一事业或团体而组织的）步行募捐；散步的小路，步行的路径；步态；步行的距离（或时间）；缓步而行；（棒球）自由上垒；&lt;英&gt;（护林人的）管辖林区；斗鸡场；&lt;英&gt;小猎犬驯养场；&lt;英&gt;（邮递员的）投递路线；&lt;罕&gt;一群沙锥',\n",
       " '【名】 （Walk）（美）沃克（人名）']"
      ]
     },
     "execution_count": 48,
     "metadata": {},
     "output_type": "execute_result"
    }
   ],
   "source": [
    "re.findall('<li>(.*?)</li>', str(res[0]))"
   ]
  },
  {
   "cell_type": "code",
   "execution_count": 50,
   "metadata": {},
   "outputs": [
    {
     "data": {
      "text/plain": [
       "['v. 走，行走；徒步旅行，散步；陪伴……走，护送……走；带（宠物）散步，遛（狗等）；把（某物）移走，使（某物）移动；&lt;非正式&gt;消失，被偷；轻易做成（某事）；&lt;非正式&gt;放弃，突然退出；出现，显灵；（使）上一垒；被无罪释放，未获刑罚；骑（马）慢步走；（板球）（击球手不等裁判指示）离开球场；&lt;古&gt;生活；训练并看护（小猎犬）',\n",
       " 'n. 步行，散步；（为游玩而组织的）徒步旅行；（为某一事业或团体而组织的）步行募捐；散步的小路，步行的路径；步态；步行的距离（或时间）；缓步而行；（棒球）自由上垒；&lt;英&gt;（护林人的）管辖林区；斗鸡场；&lt;英&gt;小猎犬驯养场；&lt;英&gt;（邮递员的）投递路线；&lt;罕&gt;一群沙锥',\n",
       " '【名】 （Walk）（美）沃克（人名）']"
      ]
     },
     "execution_count": 50,
     "metadata": {},
     "output_type": "execute_result"
    }
   ],
   "source": [
    "def get_explanations(word:str)->list:\n",
    "    base_url = 'https://dict.youdao.com/w/'\n",
    "    url = base_url + word\n",
    "    response = requests.get(url, headers=headers)\n",
    "    html = response.text\n",
    "    soup = BeautifulSoup(html, 'html.parser')\n",
    "    explanations = soup.select('.trans-container')[0] # 取第一个\n",
    "    return re.findall('<li>(.*?)</li>', str(explanations))\n",
    "\n",
    "get_explanations('walk')"
   ]
  },
  {
   "cell_type": "code",
   "execution_count": 53,
   "metadata": {},
   "outputs": [
    {
     "data": {
      "text/plain": [
       "'this is a test for strline'"
      ]
     },
     "execution_count": 53,
     "metadata": {},
     "output_type": "execute_result"
    }
   ],
   "source": [
    "te = 'this is a tes\\\n",
    "t for str\\\n",
    "line'\n",
    "te"
   ]
  },
  {
   "cell_type": "code",
   "execution_count": 57,
   "metadata": {},
   "outputs": [],
   "source": [
    "from datetime import time\n",
    "import requests\n",
    "from bs4 import BeautifulSoup\n",
    "import os\n",
    "import re\n",
    "import shutil\n",
    "# Python播放MP3音频文件参考\n",
    "#  https://blog.csdn.net/yzy_1996/article/details/86992770\n",
    "from playsound import playsound\n",
    "\n",
    "headers = {\n",
    "        'User-Agent': 'Mozilla/5.0 (Macintosh; Intel Mac OS X 10_15_1) AppleWebKit/537.36 (KHTML, like Gecko) Chrome/78.0.3904.108 Safari/537.36'\n",
    "    }\n",
    "\n",
    "ROOT_PATH = os.getcwd()\n",
    "AUDIO_PATH = os.path.join(ROOT_PATH, 'audio_data')\n",
    "if not os.path.exists(AUDIO_PATH):\n",
    "    os.mkdir(AUDIO_PATH)\n",
    "\n",
    "WORD_LISTS_DIR = os.path.join(ROOT_PATH, 'word_lists')\n",
    "\n",
    "def get_list_path(WORD_LISTS_DIR=WORD_LISTS_DIR):\n",
    "    lists = os.listdir(WORD_LISTS_DIR)\n",
    "    return [ os.path.join(WORD_LISTS_DIR, list_name) for list_name in lists]\n",
    "\n",
    "def get_words(list_path:str)->list:\n",
    "    with open(list_path, 'r') as fp:\n",
    "        return fp.read().split('\\n')\n",
    "\n",
    "def download_audios(word_list:list, accent_type=0, AUDIO_SAVED_PATH=AUDIO_PATH, save_info=True):\n",
    "    ''' accent_type={0:us(default), 1:en}\n",
    "    '''\n",
    "    # 有道单词发音api 参考 https://blog.csdn.net/humanking7/article/details/88630856\n",
    "    # base_url = 'https://dict.youdao.com/w/'\n",
    "    base_url = 'http://dict.youdao.com/dictvoice?type={}&audio='.format(accent_type)\n",
    "    count = 0\n",
    "    for word in word_list:\n",
    "        count+=1\n",
    "        url = base_url + word\n",
    "        response = requests.get(url, headers=headers)\n",
    "        audio_bitstream = response.content\n",
    "        audio_save_path = os.path.join(AUDIO_SAVED_PATH, word + '.mp3')\n",
    "        with open(audio_save_path, 'wb') as fp:\n",
    "            fp.write(audio_bitstream)\n",
    "        if save_info == False:\n",
    "            return\n",
    "        print('Downloading audios {}/{}...'.format(count, len(word_list)))\n",
    "    print('All done! Audios saved in {}'.format(AUDIO_SAVED_PATH))\n",
    "\n",
    "def get_explanations(word:str)->list:\n",
    "    base_url = 'https://dict.youdao.com/w/'\n",
    "    url = base_url + word\n",
    "    response = requests.get(url, headers=headers)\n",
    "    html = response.text\n",
    "    soup = BeautifulSoup(html, 'html.parser')\n",
    "    explanations = soup.select('.trans-container')[0] # 取第一个\n",
    "    return re.findall('<li>(.*?)</li>', str(explanations))\n",
    "\n",
    "\n",
    "def play_audio(word:str, times=1, accent_type=0, explanations=True, AUDIO_PATH=AUDIO_PATH):\n",
    "    audio_path = os.path.join(AUDIO_PATH, word+'.mp3')\n",
    "    if not os.path.exists(audio_path):\n",
    "        print(\"It seems that there's no audio file of '{}', \\\n",
    "plz add this word to your word list or \\\n",
    "use search_word() function.\".format(word))\n",
    "        return \n",
    "    print('{}'.format(word))\n",
    "    if explanations:\n",
    "        for e in get_explanations(word):\n",
    "            print(e)\n",
    "    for i in range(times):\n",
    "        playsound(audio_path)\n",
    "\n",
    "def search_word(word:str, times=1, accent_type=0, explanations=True):\n",
    "    TEMP_AUDIO = os.path.join(ROOT_PATH, 'temp_audio')\n",
    "    if not os.path.exists(TEMP_AUDIO):\n",
    "        os.mkdir(TEMP_AUDIO)\n",
    "    download_audios([word], accent_type=accent_type, AUDIO_SAVED_PATH=TEMP_AUDIO, save_info=False)\n",
    "    play_audio(word, times=times, accent_type=accent_type, explanations=explanations, AUDIO_PATH=TEMP_AUDIO)\n",
    "    # python 删除文件、清空目录的方法总结\n",
    "    # https://blog.csdn.net/baoxiao7872/article/details/90340163\n",
    "    # https://blog.csdn.net/lidashent/article/details/121892422\n",
    "    # os.removedirs(TEMP_AUDIO) # 文件夹有内容不可用\n",
    "    shutil.rmtree(TEMP_AUDIO)\n",
    "\n",
    "def audio_data_clean():\n",
    "    shutil.rmtree(AUDIO_PATH)\n",
    "    print('All the saved audios have been cleaned.')\n",
    "\n"
   ]
  },
  {
   "cell_type": "code",
   "execution_count": 56,
   "metadata": {},
   "outputs": [
    {
     "name": "stdout",
     "output_type": "stream",
     "text": [
      "['test', 'super', 'supreme', 'ardent', 'splendid', 'marverlous', 'outstanding', 'Christmas', 'New Year']\n",
      "['Christmas', 'New Year', 'ardent', 'marverlous', 'outstanding', 'splendid', 'super', 'supreme', 'test']\n"
     ]
    }
   ],
   "source": [
    "import random \n",
    "wl = get_words(get_list_path()[0])\n",
    "REPORT_PATH = os.path.join(ROOT_PATH, '')\n",
    "def dictate(list_path:str, alphabetical=False, repeat_times=1, report_save=True, save_path=REPORT_PATH)->str:\n",
    "    # print(word_list)\n",
    "    word_list = get_words(list_path)\n",
    "    list_name = re.findall('(.*?).txt', list_path.split(os.path.sep)[-1])\n",
    "    if alphabetical:\n",
    "        word_list.sort(reverse=False) # 大写优先（比如 Christmas < ardent）; True 为逆序\n",
    "    else:\n",
    "     random.shuffle(word_list)\n",
    "    comparing_sheet = []\n",
    "    for w in word_list:\n",
    "        play_audio(w, times=repeat_times, explanations=False)\n",
    "        ans = input('write ur answer here = ')\n",
    "        comparing_sheet.append(ans==w)\n",
    "        if report_save:\n",
    "            # https://www.runoob.com/python/python-func-open.html\n",
    "            with open(list_name + '_report.txt', 'a+') as fp:\n",
    "                fp.write('{}: {} = {}\\n'.format(w, ans, '✅' if ans==w else '❌'))\n",
    "    result = 'Acc:{} ({}/{})'.format(sum(comparing_sheet)/len(comparing_sheet), sum(comparing_sheet), len(comparing_sheet))\n",
    "    if report_save:\n",
    "        with open(list_name + '_report.txt', 'a+') as fp:\n",
    "            fp.write('-'*50)\n",
    "            fp.write('\\n{}'.format(result))\n",
    "    return result\n",
    "\n",
    "\n",
    "        \n",
    "\n",
    "dictate(wl, alphabetical=True)"
   ]
  },
  {
   "cell_type": "code",
   "execution_count": 59,
   "metadata": {},
   "outputs": [
    {
     "data": {
      "text/plain": [
       "[False, True, True]"
      ]
     },
     "execution_count": 59,
     "metadata": {},
     "output_type": "execute_result"
    }
   ],
   "source": [
    "l = [ 'word'=='w', 'a'=='a', 'b'=='b']\n",
    "l"
   ]
  },
  {
   "cell_type": "code",
   "execution_count": 60,
   "metadata": {},
   "outputs": [
    {
     "data": {
      "text/plain": [
       "2"
      ]
     },
     "execution_count": 60,
     "metadata": {},
     "output_type": "execute_result"
    }
   ],
   "source": [
    "sum(l)"
   ]
  },
  {
   "cell_type": "code",
   "execution_count": 64,
   "metadata": {},
   "outputs": [
    {
     "data": {
      "text/plain": [
       "('/', str)"
      ]
     },
     "execution_count": 64,
     "metadata": {},
     "output_type": "execute_result"
    }
   ],
   "source": [
    "os.path.sep, type(os.path.sep)"
   ]
  },
  {
   "cell_type": "code",
   "execution_count": 63,
   "metadata": {},
   "outputs": [
    {
     "data": {
      "text/plain": [
       "'/Users/rgmax/Desktop/words-consolidation/word_lists/list1.txt'"
      ]
     },
     "execution_count": 63,
     "metadata": {},
     "output_type": "execute_result"
    }
   ],
   "source": [
    "list_path = get_list_path()[0]\n",
    "list_path\n"
   ]
  },
  {
   "cell_type": "code",
   "execution_count": 65,
   "metadata": {},
   "outputs": [
    {
     "data": {
      "text/plain": [
       "['',\n",
       " 'Users',\n",
       " 'rgmax',\n",
       " 'Desktop',\n",
       " 'words-consolidation',\n",
       " 'word_lists',\n",
       " 'list1.txt']"
      ]
     },
     "execution_count": 65,
     "metadata": {},
     "output_type": "execute_result"
    }
   ],
   "source": [
    "\n",
    "list_path.split('/')"
   ]
  },
  {
   "cell_type": "code",
   "execution_count": 67,
   "metadata": {},
   "outputs": [
    {
     "data": {
      "text/plain": [
       "['list1']"
      ]
     },
     "execution_count": 67,
     "metadata": {},
     "output_type": "execute_result"
    }
   ],
   "source": [
    "list_name = re.findall('(.*?).txt', list_path.split(os.path.sep)[-1])\n",
    "list_name"
   ]
  },
  {
   "cell_type": "code",
   "execution_count": 72,
   "metadata": {},
   "outputs": [],
   "source": [
    "w_l = ['a', 'b', 'c']\n",
    "ans_l = ['a', 'b', 'd']\n",
    "for w, ans in zip(w_l, ans_l):\n",
    "    # https://www.runoob.com/python/python-func-open.html\n",
    "    with open('list_name' + '_report.txt', 'a+') as fp:\n",
    "        fp.write('{}: {} = {}\\n'.format(w, ans, '✅' if ans==w else '❌'))"
   ]
  },
  {
   "cell_type": "code",
   "execution_count": null,
   "metadata": {},
   "outputs": [],
   "source": []
  }
 ],
 "metadata": {
  "interpreter": {
   "hash": "0704b6f0461e547cd7a17555244e5231c3d57fb28f14c29ec7fc7ea647ff9eb1"
  },
  "kernelspec": {
   "display_name": "Python 3.7.5 64-bit ('python3.7.5': conda)",
   "language": "python",
   "name": "python3"
  },
  "language_info": {
   "codemirror_mode": {
    "name": "ipython",
    "version": 3
   },
   "file_extension": ".py",
   "mimetype": "text/x-python",
   "name": "python",
   "nbconvert_exporter": "python",
   "pygments_lexer": "ipython3",
   "version": "3.7.5"
  },
  "orig_nbformat": 4
 },
 "nbformat": 4,
 "nbformat_minor": 2
}
